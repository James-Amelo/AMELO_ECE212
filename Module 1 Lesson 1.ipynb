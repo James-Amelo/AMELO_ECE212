{
  "nbformat": 4,
  "nbformat_minor": 0,
  "metadata": {
    "colab": {
      "name": "Untitled0.ipynb",
      "provenance": [],
      "collapsed_sections": []
    },
    "kernelspec": {
      "name": "python3",
      "display_name": "Python 3"
    }
  },
  "cells": [
    {
      "cell_type": "markdown",
      "metadata": {
        "id": "NHCUSfDRKJIO"
      },
      "source": [
        "# Application"
      ]
    },
    {
      "cell_type": "markdown",
      "metadata": {
        "id": "VBvXrACnKbT2"
      },
      "source": [
        "### Answer these questions:\n",
        "\n",
        "1. Why do you think Python is the most applicable programming language for scientific computing?\n",
        "\n",
        "    It is one of the most widely used programming language espcially in the software sector. It is used for creating operating systems, web development, machine learning, mobile application and video games. Plus, it is easy to understand because it is intented to be closer to human language. The syntax is clean and very readable.\n",
        "    \n",
        "\n",
        "2. If Python can build anything, where do you think Python is not applicable for?\n",
        "\n",
        "    In computers because they can only be run by low level languages. Although it possible when there is an interpreter but computer works more efficiently than Python if it is run in low level languages."
      ]
    },
    {
      "cell_type": "markdown",
      "metadata": {
        "id": "A7GlmcCxK6Fd"
      },
      "source": [
        "### Exercise 1: Mailing Address\n"
      ]
    },
    {
      "cell_type": "code",
      "metadata": {
        "id": "YOdS3s5hLBfa",
        "colab": {
          "base_uri": "https://localhost:8080/",
          "height": 170
        },
        "outputId": "b8613fe9-3b0a-4cc2-99c6-ef7282a3beac"
      },
      "source": [
        "print(\"James Carl\")\n",
        "print(\"Carcueva\")\n",
        "print(\"Amelo\")\n",
        "print(\"Blk 5 Lot 7\")\n",
        "print(\"Rosalina III\")\n",
        "print(\"Brgy. Baliok\")\n",
        "print(\"Talomo District\")\n",
        "print(\"Davao City\")\n",
        "print(\"Davao del Sur\")"
      ],
      "execution_count": null,
      "outputs": [
        {
          "output_type": "stream",
          "text": [
            "James Carl\n",
            "Carcueva\n",
            "Amelo\n",
            "Blk 5 Lot 7\n",
            "Rosalina III\n",
            "Brgy. Baliok\n",
            "Talomo District\n",
            "Davao City\n",
            "Davao del Sur\n"
          ],
          "name": "stdout"
        }
      ]
    },
    {
      "cell_type": "markdown",
      "metadata": {
        "id": "Og6gOMMTxmtz"
      },
      "source": [
        "## Exercise 2: Area of a Room"
      ]
    },
    {
      "cell_type": "code",
      "metadata": {
        "colab": {
          "base_uri": "https://localhost:8080/"
        },
        "id": "9ouq5gGSxvwB",
        "outputId": "2def8a48-136c-48e7-a98f-475fe4d16fae"
      },
      "source": [
        "#compute the area of the room\r\n",
        "\r\n",
        "#Read the dimensions from the user\r\n",
        "length = float(input(\"Enter the length of the room in meters\"))\r\n",
        "width = float(input(\"Enter the width of the room in meters\"))\r\n",
        "\r\n",
        "#Compute the area of the room\r\n",
        "area = length * width\r\n",
        "\r\n",
        "#display the result\r\n",
        "print(\"The area of the room is\", area)"
      ],
      "execution_count": 8,
      "outputs": [
        {
          "output_type": "stream",
          "text": [
            "Enter the length of the room in meters4\n",
            "Enter the width of the room in meters5\n",
            "The area of the room is 20.0\n"
          ],
          "name": "stdout"
        }
      ]
    },
    {
      "cell_type": "markdown",
      "metadata": {
        "id": "2jUCgBjv2Ode"
      },
      "source": [
        "## Exercise 3: Arithmetic"
      ]
    },
    {
      "cell_type": "code",
      "metadata": {
        "id": "LJHdAc1m2gxV"
      },
      "source": [
        "#Please put any amount of numerical values here.\r\n",
        "\r\n",
        "a = float(input(\"Enter number here: \"))\r\n",
        "b = float(input(\"Enter number here: \"))\r\n",
        "import math\r\n",
        "\r\n",
        "#display the result\r\n",
        "print(a + b)\r\n",
        "print(b - a)\r\n",
        "print(a * b)\r\n",
        "print(a / b)\r\n",
        "print(a % b)\r\n",
        "print(math.log(a))\r\n",
        "print(a,b)"
      ],
      "execution_count": null,
      "outputs": []
    },
    {
      "cell_type": "markdown",
      "metadata": {
        "id": "78gkTI7rGgIu"
      },
      "source": [
        "## Exercise 4: Area and Volume"
      ]
    },
    {
      "cell_type": "code",
      "metadata": {
        "id": "6yeHK5AIGldN"
      },
      "source": [
        "from math import pi\r\n",
        "radian = float(input('Radius of sphere: '))\r\n",
        "sur_area = 4 * pi * radian **2\r\n",
        "volume = (4/3) * (pi * radian ** 3)\r\n",
        "print(\"Surface Area is: \", sur_area)\r\n",
        "print(\"Volume is: \", volume)\r\n"
      ],
      "execution_count": null,
      "outputs": []
    }
  ]
}