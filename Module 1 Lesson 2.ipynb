{
  "nbformat": 4,
  "nbformat_minor": 0,
  "metadata": {
    "colab": {
      "name": "Untitled3.ipynb",
      "provenance": [],
      "authorship_tag": "ABX9TyOY6ehXLGzDncPBnC8qduEz",
      "include_colab_link": true
    },
    "kernelspec": {
      "name": "python3",
      "display_name": "Python 3"
    }
  },
  "cells": [
    {
      "cell_type": "markdown",
      "metadata": {
        "id": "view-in-github",
        "colab_type": "text"
      },
      "source": [
        "<a href=\"https://colab.research.google.com/github/James-Amelo/AMELO_ECE212/blob/master/Module%201%20Lesson%202.ipynb\" target=\"_parent\"><img src=\"https://colab.research.google.com/assets/colab-badge.svg\" alt=\"Open In Colab\"/></a>"
      ]
    },
    {
      "cell_type": "markdown",
      "metadata": {
        "id": "EfGfYTsQQYU_"
      },
      "source": [
        "## Application"
      ]
    },
    {
      "cell_type": "markdown",
      "metadata": {
        "id": "fukabD-vQhf4"
      },
      "source": [
        "The surface of the Earth is curved, and the distance between degrees of longitude\r\n",
        "varies with latitude. As a result, finding the distance between two points on the\r\n",
        "surface of the Earth is more complicated than simply using the Pythagorean theorem.\r\n",
        "Let (t1, g1) and (t2, g2) be the latitude and longitude of two points on the Earth’s\r\n",
        "surface. The distance between these points, following the surface of the Earth, in\r\n",
        "kilometers is:\r\n",
        "distance = 6371.01\r\n",
        "× arccos(sin(𝑡!) × sin(𝑡\") + cos(𝑡!) × cos(𝑡\") × cos(𝑔! − 𝑔\"))\r\n",
        "The value 6371.01 in the previous equation wasn’t selected at random. It is the\r\n",
        "average radius of the Earth in kilometers\r\n"
      ]
    },
    {
      "cell_type": "code",
      "metadata": {
        "id": "DLrc1oP1RJX1"
      },
      "source": [
        "##\r\n",
        "#Python's program to calculate Distance Between Two Points on Earth\r\n",
        "##\r\n",
        "from math import radians, cos, sin, asin, sqrt\r\n",
        " \r\n",
        "#Read the input from user\r\n",
        "print(\"Enter the latitude and longitude of two points on the Earth in degrees:\")\r\n",
        "lat1 = float(input(\" Latitude 1: \"))\r\n",
        "lat2 = float(input(\" Latitude 2: \"))\r\n",
        "lon1 = float(input(\" Longitude 1: \"))\r\n",
        "lon2 = float(input(\" Longitude 2: \"))\r\n",
        " \r\n",
        "# The math module contains a function named radians which converts from degrees to radians.\r\n",
        "lon1 = radians(lon1)\r\n",
        "lon2 = radians(lon2)\r\n",
        "lat1 = radians(lat1)\r\n",
        "lat2 = radians(lat2)\r\n",
        " \r\n",
        "# Haversine formula \r\n",
        "dlon = lon2 - lon1 \r\n",
        "dlat = lat2 - lat1 \r\n",
        "a = sin(dlat/2)**2 + cos(lat1) * cos(lat2) * sin(dlon/2)**2\r\n",
        "c = 2 * asin(sqrt(a)) \r\n",
        "r = 6371 # Radius of earth in kilometers. Use 3956 for miles\r\n",
        " \r\n",
        "#Display the result\r\n",
        "print(\"Distance is: \",c*r,\"Kilometers\")2"
      ],
      "execution_count": null,
      "outputs": []
    }
  ]
}