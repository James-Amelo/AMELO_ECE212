{
  "nbformat": 4,
  "nbformat_minor": 0,
  "metadata": {
    "colab": {
      "name": "Untitled0.ipynb",
      "provenance": [],
      "collapsed_sections": [],
      "authorship_tag": "ABX9TyNghaL/kSzIqyNCC6zw1k44",
      "include_colab_link": true
    },
    "kernelspec": {
      "name": "python3",
      "display_name": "Python 3"
    }
  },
  "cells": [
    {
      "cell_type": "markdown",
      "metadata": {
        "id": "view-in-github",
        "colab_type": "text"
      },
      "source": [
        "<a href=\"https://colab.research.google.com/github/James-Amelo/AMELO_ECE212/blob/master/Untitled0.ipynb\" target=\"_parent\"><img src=\"https://colab.research.google.com/assets/colab-badge.svg\" alt=\"Open In Colab\"/></a>"
      ]
    },
    {
      "cell_type": "markdown",
      "metadata": {
        "id": "NHCUSfDRKJIO"
      },
      "source": [
        "# Application"
      ]
    },
    {
      "cell_type": "markdown",
      "metadata": {
        "id": "VBvXrACnKbT2"
      },
      "source": [
        "### Answer these questions:\n",
        "\n",
        "1. Why do you think Python is the most applicable programming language for scientific computing?\n",
        "\n",
        "    It is one of the most widely used programming language espcially in the software sector. It is used for creating operating systems, web development, machine learning, mobile application and video games. Plus, it is easy to understand because it is intented to be closer to human language. The syntax is clean and very readable.\n",
        "    \n",
        "\n",
        "2. If Python can build anything, where do you think Python is not applicable for?\n",
        "\n",
        "    In computers because they can only be run by low level languages. Although it possible when there is an interpreter but computer works more efficiently than Python if it is run in low level languages."
      ]
    },
    {
      "cell_type": "markdown",
      "metadata": {
        "id": "A7GlmcCxK6Fd"
      },
      "source": [
        "### Exercise 1: Mailing Address\n"
      ]
    },
    {
      "cell_type": "code",
      "metadata": {
        "id": "YOdS3s5hLBfa",
        "outputId": "b8613fe9-3b0a-4cc2-99c6-ef7282a3beac",
        "colab": {
          "base_uri": "https://localhost:8080/",
          "height": 170
        }
      },
      "source": [
        "print(\"James Carl\")\n",
        "print(\"Carcueva\")\n",
        "print(\"Amelo\")\n",
        "print(\"Blk 5 Lot 7\")\n",
        "print(\"Rosalina III\")\n",
        "print(\"Brgy. Baliok\")\n",
        "print(\"Talomo District\")\n",
        "print(\"Davao City\")\n",
        "print(\"Davao del Sur\")"
      ],
      "execution_count": 3,
      "outputs": [
        {
          "output_type": "stream",
          "text": [
            "James Carl\n",
            "Carcueva\n",
            "Amelo\n",
            "Blk 5 Lot 7\n",
            "Rosalina III\n",
            "Brgy. Baliok\n",
            "Talomo District\n",
            "Davao City\n",
            "Davao del Sur\n"
          ],
          "name": "stdout"
        }
      ]
    },
    {
      "cell_type": "code",
      "metadata": {
        "id": "MLnLxhkxLw25"
      },
      "source": [
        ""
      ],
      "execution_count": null,
      "outputs": []
    }
  ]
}